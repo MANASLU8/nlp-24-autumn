{
 "cells": [
  {
   "cell_type": "code",
   "execution_count": 29,
   "metadata": {},
   "outputs": [],
   "source": [
    "import pandas as pd\n",
    "import numpy as np\n",
    "import os\n",
    "\n",
    "from sklearn.model_selection import train_test_split\n",
    "\n",
    "from sklearn.linear_model import LogisticRegression\n",
    "from sklearn import svm\n",
    "from sklearn.metrics import multilabel_confusion_matrix\n",
    "from sklearn.decomposition import PCA"
   ]
  },
  {
   "cell_type": "code",
   "execution_count": 2,
   "metadata": {},
   "outputs": [],
   "source": [
    "topics = ['baseball', 'electronics', 'hockey', 'med', 'motorcycles', 'space']\n",
    "data_path = '..\\\\..\\\\assets\\\\vectorized'\n",
    "\n",
    "def read_and_split(test_size=0.2):\n",
    "    train_df = pd.DataFrame()\n",
    "    test_df = pd.DataFrame()\n",
    "    for i, topic in enumerate(topics):\n",
    "        data_df = pd.read_csv(os.path.join(data_path, topic)+ '.tsv', delimiter='\\t', header=None).iloc[:,1:]\n",
    "        data_df['target'] = np.ones((len(data_df))) * i\n",
    "\n",
    "        train_, test_ = train_test_split(data_df, test_size=test_size)\n",
    "        train_df = pd.concat([train_df, train_], ignore_index=True)\n",
    "        test_df = pd.concat([test_df, test_], ignore_index=True)\n",
    "    return train_df, test_df\n",
    "\n",
    "train_df, test_df = read_and_split()\n",
    "\n"
   ]
  },
  {
   "cell_type": "code",
   "execution_count": null,
   "metadata": {},
   "outputs": [],
   "source": [
    "train_df"
   ]
  },
  {
   "cell_type": "code",
   "execution_count": null,
   "metadata": {},
   "outputs": [],
   "source": [
    "test_df"
   ]
  },
  {
   "cell_type": "code",
   "execution_count": 51,
   "metadata": {},
   "outputs": [],
   "source": [
    "\n",
    "import matplotlib.pyplot as plt\n",
    "import tqdm\n",
    "\n",
    "def RBF(X, gamma=None):\n",
    "    \n",
    "    # Free parameter gamma\n",
    "    if gamma == None:\n",
    "        gamma = 1.0/X.shape[1]\n",
    "        \n",
    "    # RBF kernel Equation\n",
    "    K = np.exp(-gamma * np.sum((X - X[:,np.newaxis])**2, axis = -1))\n",
    "    \n",
    "    return K\n",
    "\n",
    "def visualize_clusters(train_df):\n",
    "    x_train = train_df.iloc[:,:-1].values\n",
    "    # x_train = RBF(x_train)\n",
    "    y_train = train_df.iloc[:,-1].values.astype(int).tolist()\n",
    "\n",
    "    pca_ = PCA(n_components=2)\n",
    "    x_transformed = pca_.fit_transform(x_train)\n",
    "    x_transformed_rbf = RBF(x_transformed)\n",
    "\n",
    "    colors = ['red', 'yellow', 'green', 'black', 'blue', 'purple']\n",
    "    \n",
    "\n",
    "    plt.figure(figsize=(10,10))\n",
    "    for ind, (x,y) in tqdm.tqdm(enumerate(x_transformed)):\n",
    "        plt.scatter(x, y, c=colors[y_train[ind]])\n",
    "    plt.show()\n",
    "\n",
    "    "
   ]
  },
  {
   "cell_type": "code",
   "execution_count": null,
   "metadata": {},
   "outputs": [],
   "source": [
    "\n",
    "visualize_clusters(test_df)"
   ]
  },
  {
   "cell_type": "code",
   "execution_count": 28,
   "metadata": {},
   "outputs": [],
   "source": [
    "def precision_score(conf_matrix):\n",
    "    if isinstance(conf_matrix, np.ndarray) and len(conf_matrix.shape) == 3:\n",
    "        precision = []\n",
    "        for conf_m in conf_matrix:\n",
    "            TP, FP = conf_m[1][1], conf_m[0][1]\n",
    "            precision.append((TP) / (TP + FP))\n",
    "    else:\n",
    "        TP, FP = conf_matrix[1][1], conf_matrix[0][1]\n",
    "        precision = (TP) / (TP + FP)\n",
    "    return np.array(precision)\n",
    "\n",
    "def recall_score(conf_matrix):\n",
    "    if isinstance(conf_matrix, np.ndarray) and len(conf_matrix.shape) == 3:\n",
    "        recall = []\n",
    "        for conf_m in conf_matrix:\n",
    "            TP, FN = conf_m[1][1], conf_m[1][0]\n",
    "            recall.append((TP) / (TP + FN))\n",
    "    else:\n",
    "        TP, FN = conf_matrix[1][1], conf_matrix[1][0]\n",
    "        recall = (TP) / (TP + FN)\n",
    "    return np.array(recall)\n",
    "\n",
    "def f1_score(conf_matrix):\n",
    "    precision = precision_score(conf_matrix)\n",
    "    recall = recall_score(conf_matrix)\n",
    "    f1 = 2 * precision * recall / (precision + recall)\n",
    "    return f1\n",
    "\n",
    "def accuracy_score(conf_matrix):\n",
    "    if isinstance(conf_matrix, np.ndarray) and len(conf_matrix.shape) == 3:\n",
    "        accuracy = []\n",
    "        for conf_m in conf_matrix:\n",
    "            (TN, FP), (FN, TP) =conf_m.tolist()\n",
    "            accuracy.append((TP) / (TP + FN))\n",
    "    else:\n",
    "        (TN, FP), (FN, TP) =conf_matrix.tolist()\n",
    "        accuracy = (TP + TN) / (TP + TN + FP + FN)\n",
    "    return np.array(accuracy)\n",
    "\n",
    "\n",
    "def calculate_metrics(y_test, y_pred) -> dict:\n",
    "    conf_matrix = multilabel_confusion_matrix(y_test, y_pred)\n",
    "    prec = precision_score(conf_matrix)\n",
    "    rec = recall_score(conf_matrix)\n",
    "    f1  = f1_score(conf_matrix)\n",
    "    acc = accuracy_score(conf_matrix)\n",
    "\n",
    "    return {\n",
    "        'precision': np.mean(prec),\n",
    "        'recall': np.mean(rec),\n",
    "        'f1': np.mean(f1),\n",
    "        'accuracy': np.mean(acc),\n",
    "    }"
   ]
  },
  {
   "cell_type": "code",
   "execution_count": 39,
   "metadata": {},
   "outputs": [],
   "source": [
    "# from sklearn.metrics import precision_score, recall_score, f1_score\n",
    "import time\n",
    "\n",
    "def train_and_test_svm(train_df: pd.DataFrame, test_df: pd.DataFrame, kernels=('linear','poly', 'rbf', 'sigmoid'), max_iter=(100, 300, 600, 1000)):\n",
    "    X_train, X_test = train_df.drop(columns='target').values, test_df.drop(columns='target').values\n",
    "    y_train, y_test = train_df['target'].values, test_df['target'].values\n",
    "\n",
    "    results = []\n",
    "    for it in max_iter:\n",
    "        for ker in kernels:\n",
    "\n",
    "            svm_ = svm.SVC(kernel=ker)\n",
    "            t_start = time.time()\n",
    "            svm_.fit(X_train, y_train)\n",
    "            t_stop = time.time()\n",
    "            y_pred = svm_.predict(X_test)\n",
    "            \n",
    "            res = calculate_metrics(y_test, y_pred)\n",
    "            res.update({\n",
    "                'kernel': ker,\n",
    "                'time': t_stop - t_start,\n",
    "                'iter': it\n",
    "            })\n",
    "            results.append(res)\n",
    "\n",
    "\n",
    "    results = pd.DataFrame(results)\n",
    "    results.index = results['kernel']\n",
    "    results.drop(columns='kernel', inplace=True)\n",
    "    return results"
   ]
  },
  {
   "cell_type": "code",
   "execution_count": null,
   "metadata": {},
   "outputs": [],
   "source": [
    "train_results = train_and_test_svm(train_df, test_df)\n",
    "train_results\n"
   ]
  },
  {
   "cell_type": "markdown",
   "metadata": {},
   "source": [
    "### №2 Задание"
   ]
  },
  {
   "cell_type": "code",
   "execution_count": null,
   "metadata": {},
   "outputs": [],
   "source": [
    "def highlight_max_green(s):\n",
    "    is_max = s == s.max()\n",
    "    return ['background-color: green' if v else '' for v in is_max]\n",
    "\n",
    "def highlight_max_red(s):\n",
    "    is_max = s == s.max()\n",
    "    return ['background-color: red' if v else '' for v in is_max]\n",
    "\n",
    "def highlight_min_green(s):\n",
    "    is_max = s == s.min()\n",
    "    return ['background-color: green' if v else '' for v in is_max]\n",
    "\n",
    "def highlight_min_red(s):\n",
    "    is_max = s == s.min()\n",
    "    return ['background-color: red' if v else '' for v in is_max]\n",
    "\n",
    "train_results[train_results['iter'] == 600].drop(columns='iter').style.\\\n",
    "    apply(highlight_max_green, subset=['precision', 'recall', 'f1', 'accuracy'], axis=0).\\\n",
    "    apply(highlight_min_red, subset=['precision', 'recall', 'f1', 'accuracy'], axis=0).\\\n",
    "    apply(highlight_max_red, subset=['time'], axis=0).\\\n",
    "    apply(highlight_min_green, subset=['time'], axis=0)\n",
    "\n"
   ]
  },
  {
   "cell_type": "code",
   "execution_count": null,
   "metadata": {},
   "outputs": [],
   "source": [
    "train_results.reset_index()[train_results.reset_index()['kernel'] == 'rbf'].style.\\\n",
    "    apply(highlight_min_red, subset=['precision', 'recall', 'f1', 'accuracy'], axis=0).\\\n",
    "    apply(highlight_max_green, subset=['precision', 'recall', 'f1', 'accuracy'], axis=0).\\\n",
    "    apply(highlight_max_red, subset=['time'], axis=0).\\\n",
    "    apply(highlight_min_green, subset=['time'], axis=0)"
   ]
  },
  {
   "cell_type": "markdown",
   "metadata": {},
   "source": [
    "### №3 Задание"
   ]
  },
  {
   "cell_type": "code",
   "execution_count": 40,
   "metadata": {},
   "outputs": [],
   "source": [
    "def decrease_dementions(num_components, train_x, test_x):\n",
    "    pca_ = PCA(num_components)\n",
    "    train_x = pca_.fit_transform(train_x)\n",
    "    test_x = pca_.transform(test_x)\n",
    "    return train_x, test_x\n",
    "\n",
    "def train_test_svm_with_pca(arr_num_components, train_df: pd.DataFrame, test_df: pd.DataFrame, kernels=('linear','poly', 'rbf', 'sigmoid')):\n",
    "    X_train, X_test = train_df.drop(columns='target').values, test_df.drop(columns='target').values\n",
    "    y_train, y_test = train_df['target'].values, test_df['target'].values\n",
    "\n",
    "    results = []\n",
    "    for num_components in arr_num_components:\n",
    "        new_X_train, new_X_test = decrease_dementions(num_components, X_train, X_test)\n",
    "        for kernel in kernels:\n",
    "            svm_ = svm.SVC(kernel=kernel)\n",
    "            t_start = time.time()\n",
    "            svm_.fit(new_X_train, y_train)\n",
    "            t_stop = time.time()\n",
    "            y_pred = svm_.predict(new_X_test)\n",
    "            \n",
    "            res = calculate_metrics(y_test, y_pred)\n",
    "            res.update({\n",
    "                'num_components': num_components,\n",
    "                'kernel': kernel,\n",
    "                'time': t_stop - t_start\n",
    "            })\n",
    "            results.append(res)\n",
    "    results = pd.DataFrame(results)\n",
    "    return results\n"
   ]
  },
  {
   "cell_type": "code",
   "execution_count": null,
   "metadata": {},
   "outputs": [],
   "source": [
    "train_results_with_pca = train_test_svm_with_pca((2, 20, 40, 60), train_df, test_df)\n",
    "train_results_with_pca"
   ]
  },
  {
   "cell_type": "code",
   "execution_count": null,
   "metadata": {},
   "outputs": [],
   "source": [
    "train_results_with_pca[train_results_with_pca['kernel'] == 'rbf'].style.\\\n",
    "    apply(highlight_min_red, subset=['precision', 'recall', 'f1', 'accuracy'], axis=0).\\\n",
    "    apply(highlight_max_green, subset=['precision', 'recall', 'f1', 'accuracy'], axis=0).\\\n",
    "    apply(highlight_max_red, subset=['time'], axis=0).\\\n",
    "    apply(highlight_min_green, subset=['time'], axis=0)"
   ]
  },
  {
   "cell_type": "code",
   "execution_count": null,
   "metadata": {},
   "outputs": [],
   "source": [
    "train_results_with_pca[train_results_with_pca['kernel'] == 'linear'].style.\\\n",
    "    apply(highlight_min_red, subset=['precision', 'recall', 'f1', 'accuracy'], axis=0).\\\n",
    "    apply(highlight_max_green, subset=['precision', 'recall', 'f1', 'accuracy'], axis=0).\\\n",
    "    apply(highlight_max_red, subset=['time'], axis=0).\\\n",
    "    apply(highlight_min_green, subset=['time'], axis=0)"
   ]
  },
  {
   "cell_type": "code",
   "execution_count": null,
   "metadata": {},
   "outputs": [],
   "source": [
    "train_results_with_pca[train_results_with_pca['kernel'] == 'sigmoid'].style.\\\n",
    "    apply(highlight_min_red, subset=['precision', 'recall', 'f1', 'accuracy'], axis=0).\\\n",
    "    apply(highlight_max_green, subset=['precision', 'recall', 'f1', 'accuracy'], axis=0).\\\n",
    "    apply(highlight_max_red, subset=['time'], axis=0).\\\n",
    "    apply(highlight_min_green, subset=['time'], axis=0)"
   ]
  },
  {
   "cell_type": "code",
   "execution_count": null,
   "metadata": {},
   "outputs": [],
   "source": [
    "train_results_with_pca[train_results_with_pca['kernel'] == 'poly'].style.\\\n",
    "    apply(highlight_min_red, subset=['precision', 'recall', 'f1', 'accuracy'], axis=0).\\\n",
    "    apply(highlight_max_green, subset=['precision', 'recall', 'f1', 'accuracy'], axis=0).\\\n",
    "    apply(highlight_max_red, subset=['time'], axis=0).\\\n",
    "    apply(highlight_min_green, subset=['time'], axis=0)"
   ]
  },
  {
   "cell_type": "code",
   "execution_count": null,
   "metadata": {},
   "outputs": [],
   "source": [
    "selected_rows = pd.concat(\n",
    "    (\n",
    "        train_results_with_pca[(train_results_with_pca['kernel'] == 'poly') & (train_results_with_pca['num_components'] == 60)],\n",
    "        train_results_with_pca[(train_results_with_pca['kernel'] == 'sigmoid') & (train_results_with_pca['num_components'] == 60)],\n",
    "        train_results_with_pca[(train_results_with_pca['kernel'] == 'linear') & (train_results_with_pca['num_components'] == 60)],\n",
    "        train_results_with_pca[(train_results_with_pca['kernel'] == 'rbf') & (train_results_with_pca['num_components'] == 40)]\n",
    "    )\n",
    ")\n",
    "selected_rows.style.\\\n",
    "    apply(highlight_min_red, subset=['precision', 'recall', 'f1', 'accuracy'], axis=0).\\\n",
    "    apply(highlight_max_green, subset=['precision', 'recall', 'f1', 'accuracy'], axis=0).\\\n",
    "    apply(highlight_max_red, subset=['time'], axis=0).\\\n",
    "    apply(highlight_min_green, subset=['time'], axis=0)"
   ]
  }
 ],
 "metadata": {
  "kernelspec": {
   "display_name": "new_virt_env",
   "language": "python",
   "name": "python3"
  },
  "language_info": {
   "codemirror_mode": {
    "name": "ipython",
    "version": 3
   },
   "file_extension": ".py",
   "mimetype": "text/x-python",
   "name": "python",
   "nbconvert_exporter": "python",
   "pygments_lexer": "ipython3",
   "version": "3.11.5"
  }
 },
 "nbformat": 4,
 "nbformat_minor": 2
}
